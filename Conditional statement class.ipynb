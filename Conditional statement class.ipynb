{
 "cells": [
  {
   "cell_type": "markdown",
   "id": "a5f0d487",
   "metadata": {},
   "source": [
    "conditional statement"
   ]
  },
  {
   "cell_type": "code",
   "execution_count": 19,
   "id": "66ee8be4",
   "metadata": {},
   "outputs": [
    {
     "name": "stdout",
     "output_type": "stream",
     "text": [
      "What is your name ? emmanuel\n",
      "How old are you ?25\n",
      "Helloemmanuel you are 25 years old and you are eligible to drive\n"
     ]
    }
   ],
   "source": [
    "name = str(input(\"What is your name ? \"))\n",
    "age = int(input(\"How old are you ?\"))\n",
    "if age >= 17:\n",
    "    print(f\"Hello{name} you are {age} years old and you are eligible to drive\")\n",
    "else:\n",
    "        print(f\"Hello {name} you are {age} years old, as such you are not eligible to drive\") \n",
    "    "
   ]
  },
  {
   "cell_type": "code",
   "execution_count": 1,
   "id": "19d9219e",
   "metadata": {
    "scrolled": true
   },
   "outputs": [
    {
     "name": "stdout",
     "output_type": "stream",
     "text": [
      "What is your name ? emmanuel\n",
      "How old are you ?19\n",
      "Helloemmanuel you are 19 years old and you are eligible to drive\n"
     ]
    }
   ],
   "source": [
    "name = str(input(\"What is your name ? \"))\n",
    "age = int(input(\"How old are you ?\"))\n",
    "if age >= 17 and age <= 32:\n",
    "    print(f\"Hello{name} you are {age} years old and you are eligible to drive\")\n",
    "elif age > 32 and age < 60:\n",
    "        print(f\"Hello {name} you are {age} years old, as such should be careful while driving\") \n",
    "else:\n",
    "    print(f\"Hello {name} you are {age} years old, as such you are too old to drive\") "
   ]
  },
  {
   "cell_type": "code",
   "execution_count": 5,
   "id": "510126cb",
   "metadata": {},
   "outputs": [
    {
     "name": "stdout",
     "output_type": "stream",
     "text": [
      "What is your name ? emmanuel\n",
      "How old are you ?32\n",
      "How many children do you have?3\n",
      "Hello emmanuel you are 32 years old, you have 3 number as such you can go for masters\n"
     ]
    }
   ],
   "source": [
    "name = str(input(\"What is your name ? \"))\n",
    "age = int(input(\"How old are you ?\"))\n",
    "if age >= 0 and age <= 10:\n",
    "    print(f\"Hello{name} you are {age} years old and you should be in primary school\")\n",
    "elif age > 10 and age < 18 :\n",
    "    print(f\"Hello {name} you are {age} years old, as such should be in senior secondary school\") \n",
    "elif age > 18 and age <23:\n",
    "    print(f\"Hello {name} you are {age} years old, as such you be in the university\")\n",
    "elif age >23 and age >30 :\n",
    "        children = int(input(\"How many children do you have?\")) \n",
    "        if children > 3:\n",
    "            print(f\"Hello {name} you are {age} years old, as such you have {children} number as such you shouldnt go for masters\") \n",
    "        else:\n",
    "            print(f\"Hello {name} you are {age} years old, you have {children} number as such you can go for masters\")  \n",
    "                       \n",
    "else: \n",
    "    print(f\"Hello {name} you are {age} years old, as such you should go for PHD\")"
   ]
  },
  {
   "cell_type": "code",
   "execution_count": null,
   "id": "40b196a2",
   "metadata": {},
   "outputs": [],
   "source": []
  }
 ],
 "metadata": {
  "kernelspec": {
   "display_name": "Python 3 (ipykernel)",
   "language": "python",
   "name": "python3"
  },
  "language_info": {
   "codemirror_mode": {
    "name": "ipython",
    "version": 3
   },
   "file_extension": ".py",
   "mimetype": "text/x-python",
   "name": "python",
   "nbconvert_exporter": "python",
   "pygments_lexer": "ipython3",
   "version": "3.11.5"
  }
 },
 "nbformat": 4,
 "nbformat_minor": 5
}
